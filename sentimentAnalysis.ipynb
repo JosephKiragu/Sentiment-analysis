{
 "cells": [
  {
   "attachments": {},
   "cell_type": "markdown",
   "id": "6730fecf",
   "metadata": {},
   "source": [
    "## Assignment 1 \n",
    "### \\<Joseph Kiragu> \\<a1821114>"
   ]
  },
  {
   "attachments": {},
   "cell_type": "markdown",
   "id": "791f89f1",
   "metadata": {},
   "source": [
    "#### Common downloads"
   ]
  },
  {
   "cell_type": "code",
   "execution_count": 10,
   "id": "f3969b0d",
   "metadata": {},
   "outputs": [
    {
     "name": "stderr",
     "output_type": "stream",
     "text": [
      "[nltk_data] Downloading package vader_lexicon to\n",
      "[nltk_data]     /Users/josephkiragu/nltk_data...\n",
      "[nltk_data]   Package vader_lexicon is already up-to-date!\n"
     ]
    }
   ],
   "source": [
    "import nltk\n",
    "from sklearn.metrics import accuracy_score\n",
    "nltk.download(\"vader_lexicon\")\n",
    "from nltk.sentiment.vader import SentimentIntensityAnalyzer\n",
    "\n",
    "import pandas as pd\n",
    "import numpy as np\n",
    "import scipy.sparse as sp\n",
    "import matplotlib.pyplot as plt\n",
    "import seaborn as sns\n",
    "\n",
    "from sklearn.linear_model import LogisticRegression"
   ]
  },
  {
   "cell_type": "markdown",
   "id": "3df2aac6",
   "metadata": {},
   "source": [
    "### 1. Reading datasets"
   ]
  },
  {
   "attachments": {},
   "cell_type": "markdown",
   "id": "847f8b6f",
   "metadata": {},
   "source": [
    "#### Reading training set"
   ]
  },
  {
   "cell_type": "code",
   "execution_count": 3,
   "id": "fe7a070a",
   "metadata": {},
   "outputs": [],
   "source": [
    "# opening the file\n",
    "with open('reviews_train.txt', 'r', encoding = 'ISO-8859-1') as file:\n",
    "\tlines = file.readlines()\n",
    "\n",
    "# initializing empty list to store train set words\n",
    "x_train = []\n",
    "y_train = []\n",
    "\n",
    "for line in lines:\n",
    "\tparts = line.split(' ', 1)\n",
    "\tfirst_word = parts[0]\n",
    "\trest_of_words = parts[1]\n",
    "\n",
    "\tx_train.append(rest_of_words)\n",
    "\ty_train.append(first_word)\n",
    "\t"
   ]
  },
  {
   "attachments": {},
   "cell_type": "markdown",
   "id": "52924806",
   "metadata": {},
   "source": [
    "#### Reading test set"
   ]
  },
  {
   "cell_type": "code",
   "execution_count": 4,
   "id": "d0693ed5",
   "metadata": {},
   "outputs": [],
   "source": [
    "# opening the file\n",
    "with open('reviews_test.txt', 'r', encoding= 'ISO-8859-1') as file:\n",
    "\tlines = file.readlines()\n",
    "\n",
    "# initializing empty list to store the test set words\n",
    "x_test = []\n",
    "y_test = []\n",
    "\n",
    "for line in lines :\n",
    "\tparts = line.split(' ', 1)\n",
    "\tfirst_word = parts[0]\n",
    "\trest_of_words = parts[1]\n",
    "\n",
    "\tx_test.append(rest_of_words)\n",
    "\ty_test.append(first_word)"
   ]
  },
  {
   "cell_type": "markdown",
   "id": "31d75afc",
   "metadata": {},
   "source": [
    "### 2. Pre-processing"
   ]
  },
  {
   "attachments": {},
   "cell_type": "markdown",
   "id": "f765e70a",
   "metadata": {},
   "source": [
    "### Version 1"
   ]
  },
  {
   "attachments": {},
   "cell_type": "markdown",
   "id": "a24c89c9",
   "metadata": {},
   "source": [
    "##### Removing punctuation marks"
   ]
  },
  {
   "cell_type": "code",
   "execution_count": 11,
   "id": "2d286790",
   "metadata": {},
   "outputs": [],
   "source": [
    "import string\n",
    "\n",
    "# initialize empty lists to store result after punctuation removal\n",
    "x_train_punc = []\n",
    "x_test_punc = []\n",
    "\n",
    "#loop through the train and test set removing the punctuation marks\n",
    "for sentiment in x_train :\n",
    "\tedit = sentiment.translate(sentiment.maketrans('', '', string.punctuation))\n",
    "\tx_train_punc.append(edit)\n",
    "\n",
    "for sentiment in x_test :\n",
    "\tedit = sentiment.translate(sentiment.maketrans('', '', string.punctuation))\n",
    "\tx_test_punc.append(edit)"
   ]
  },
  {
   "attachments": {},
   "cell_type": "markdown",
   "id": "bb001643",
   "metadata": {},
   "source": [
    "##### Removing stop words"
   ]
  },
  {
   "cell_type": "code",
   "execution_count": 7,
   "id": "c0da71c8",
   "metadata": {},
   "outputs": [],
   "source": [
    "##### CREATE FUNCTION OFF BELOW CODE\n",
    "import nltk\n",
    "# nltk.download('stopwords')\n",
    "from nltk.corpus import stopwords\n",
    "from nltk.tokenize import word_tokenize\n",
    "\n",
    "# create empty lists to store result after stop word removal\n",
    "x_train_stop = []\n",
    "x_test_stop = []\n",
    "stopWords = set(stopwords.words('english'))\n",
    "\n",
    "#loop through the train and test set removing the stop words\n",
    "for index, sentence in enumerate(x_train_punc):\n",
    "\ttokens = word_tokenize(sentence)\n",
    "\tnon_stop_words = [word for word in tokens if word.lower() not in stopWords]\n",
    "\tx_train_stop.append(' '.join(non_stop_words))\n",
    "\n",
    "for index, sentence in enumerate(x_test_punc):\n",
    "\ttokens = word_tokenize(sentence)\n",
    "\tnon_stop_words = [word for word in tokens if word.lower() not in stopWords]\n",
    "\tx_test_stop.append(' '.join(non_stop_words))\n",
    "\n",
    "\n",
    "v1_train = x_train_stop\n",
    "v1_test = x_test_stop"
   ]
  },
  {
   "attachments": {},
   "cell_type": "markdown",
   "id": "a6a027b7",
   "metadata": {},
   "source": [
    "#### Version 2"
   ]
  },
  {
   "attachments": {},
   "cell_type": "markdown",
   "id": "2df11cba",
   "metadata": {},
   "source": [
    "Perform lowercasing on version 1"
   ]
  },
  {
   "cell_type": "code",
   "execution_count": 8,
   "id": "0965da0c",
   "metadata": {},
   "outputs": [],
   "source": [
    "# create empty lists to store result after lowercasing\n",
    "v2_train = []\n",
    "v2_test = []\n",
    "\n",
    "#loop through the train and test set performing lowercasing\n",
    "lowerCaseWords = []\n",
    "for sentence in v1_train :\n",
    "\tlowerCaseWords = [word.lower() for word in sentence]\n",
    "\tv2_train.append(''.join(lowerCaseWords))\n",
    "\n",
    "lowerCaseWords = []\n",
    "for sentence in v1_test :\n",
    "\tlowerCaseWords = [word.lower() for word in sentence]\n",
    "\tv2_test.append(''.join(lowerCaseWords))\n",
    "\t\n"
   ]
  },
  {
   "attachments": {},
   "cell_type": "markdown",
   "id": "5078ef41",
   "metadata": {},
   "source": [
    "#### Version 3"
   ]
  },
  {
   "attachments": {},
   "cell_type": "markdown",
   "id": "aa87bfe8",
   "metadata": {},
   "source": [
    "perform stemming or lemmatisation of words on version2 "
   ]
  },
  {
   "cell_type": "code",
   "execution_count": 9,
   "id": "15a73012",
   "metadata": {},
   "outputs": [],
   "source": [
    "from nltk.stem import WordNetLemmatizer\n",
    "\n",
    "# initialize lists to store the lemmatized words\n",
    "v3_train = []\n",
    "v3_test = []\n",
    "\n",
    "# create the lemmatizer object\n",
    "lemmatizer = WordNetLemmatizer()\n",
    "\n",
    "# loop through version 2 train set lemmatizing the words in each sentence\n",
    "for sentence in v2_train :\n",
    "\tv3_tokens = word_tokenize(sentence)\n",
    "\tlemmatizedWords = [lemmatizer.lemmatize(word) for word in v3_tokens]\n",
    "\tv3_train.append(' '.join(lemmatizedWords))\n",
    "\n",
    "for sentence in v2_test :\n",
    "\tv3_tokens = word_tokenize(sentence)\n",
    "\tlemmatizedWords = [lemmatizer.lemmatize(word) for word in v3_tokens]\n",
    "\tv3_test.append(' '.join(lemmatizedWords))\n"
   ]
  },
  {
   "cell_type": "markdown",
   "id": "333cefa8",
   "metadata": {},
   "source": [
    "### 3. Dataset analysis"
   ]
  },
  {
   "attachments": {},
   "cell_type": "markdown",
   "id": "d5cf0f19",
   "metadata": {},
   "source": [
    "#### proportion of positive and negative sentiments"
   ]
  },
  {
   "cell_type": "code",
   "execution_count": 90,
   "id": "03091726",
   "metadata": {},
   "outputs": [
    {
     "data": {
      "image/png": "[encoded data removed]",
      "text/plain": [
       "<Figure size 640x480 with 1 Axes>"
      ]
     },
     "metadata": {},
     "output_type": "display_data"
    }
   ],
   "source": [
    "from collections import Counter\n",
    "\n",
    "\n",
    "# rename labels to positive and negative\n",
    "y_train = list(map(lambda x: x.replace('__label__1', 'negative').replace('__label__2', 'positive'), y_train))\n",
    "y_test = list(map(lambda x: x.replace('__label__1', 'negative').replace('__label__2', 'positive'), y_test))\n",
    "\n",
    "\n",
    "# Count the number of occurrences of each label\n",
    "countDict = {}\n",
    "for label in y_train :\n",
    "\tcountDict[label] = countDict.get(label, 0) + 1\n",
    "\n",
    "# create barplot\n",
    "sns.set_style(\"whitegrid\")\n",
    "ax = sns.barplot(x = list(countDict.keys()), y = list(countDict.values()))\n",
    "\n",
    "# Add actual count on bars\n",
    "for i, count in enumerate(countDict.values()) :\n",
    "\tax.text(i, count, str(count), ha= 'center', va = 'bottom')\n",
    "\n",
    "# Set x-label y-label\n",
    "ax.set(xlabel = 'Train set sentiment', ylabel = 'Count')\n",
    "plt.title(\"Balance of sentiments in train set\")\n",
    "plt.show()\n"
   ]
  },
  {
   "attachments": {},
   "cell_type": "markdown",
   "id": "f358b253",
   "metadata": {},
   "source": [
    "#### Number of unique words in all three versions"
   ]
  },
  {
   "cell_type": "code",
   "execution_count": 13,
   "metadata": {},
   "outputs": [],
   "source": [
    "# initialize empty sets to store unique words of each versioon\n",
    "v1_vector = set()\n",
    "v2_vector = set()\n",
    "v3_vector = set()\n",
    "\n",
    "# initialize variables to store the count of unique words\n",
    "v1Count = 0\n",
    "v2Count = 0\n",
    "v3Count = 0\n",
    "\n",
    "#loop through the 3 different versions storing the unique words in respective sets \n",
    "for sentence in v1_train:\n",
    "    for word in sentence.split():\n",
    "        v1_vector.add(word)\n",
    "\n",
    "for sentence in v2_train:\n",
    "    for word in sentence.split():\n",
    "        v2_vector.add(word)\n",
    "\n",
    "for sentence in v3_train:\n",
    "    for word in sentence.split():\n",
    "        v3_vector.add(word)\n",
    "\n",
    "# store the count\n",
    "v1Count = len(v1_vector)\n",
    "v2Count = len(v2_vector)\n",
    "v3Count = len(v3_vector)\n",
    "\t"
   ]
  },
  {
   "cell_type": "code",
   "execution_count": 14,
   "id": "57cacacd",
   "metadata": {},
   "outputs": [
    {
     "data": {
      "image/png": "[encoded data removed]",
      "text/plain": [
       "<Figure size 640x480 with 1 Axes>"
      ]
     },
     "metadata": {},
     "output_type": "display_data"
    }
   ],
   "source": [
    "#store unique the unique version counts in a list\n",
    "data = [v1Count, v2Count, v3Count]\n",
    "\n",
    "#set style\n",
    "sns.set_style(\"darkgrid\")\n",
    "\n",
    "sns.barplot(x = ['version 1', 'version 2', 'version 3'], y = data)\n",
    "plt.title(\"Unique word count in the three versions\")\n",
    "plt.ylabel('Count')\n",
    "plt.xlabel('Versions')\n",
    "\n",
    "for index, value in enumerate(data):\n",
    "    plt.text(index, value, str(value), ha='center')\n",
    "\n",
    "# show plot\n",
    "plt.show()"
   ]
  },
  {
   "attachments": {},
   "cell_type": "markdown",
   "id": "41655b5d",
   "metadata": {},
   "source": [
    "# MODELLING"
   ]
  },
  {
   "cell_type": "markdown",
   "id": "067cebcf",
   "metadata": {},
   "source": [
    "### 4. Sentiment classification using Machine Learning"
   ]
  },
  {
   "attachments": {},
   "cell_type": "markdown",
   "id": "f4297942",
   "metadata": {},
   "source": [
    "#### Feature extraction"
   ]
  },
  {
   "cell_type": "code",
   "execution_count": 15,
   "id": "23c816a9",
   "metadata": {},
   "outputs": [],
   "source": [
    "from sklearn.feature_extraction.text import CountVectorizer\n",
    "\n",
    "# create vectorizer object\n",
    "vectorizer = CountVectorizer()\n",
    "\n",
    "# convert the three dataset versions into numerical representation\n",
    "v1_xtrain_v = vectorizer.fit_transform(v1_train)\n",
    "v1_xtest_v = vectorizer.transform(v1_test)\n",
    "\n",
    "v2_xtrain_v = vectorizer.fit_transform(v2_train)\n",
    "v2_xtest_v = vectorizer.transform(v2_test)\n",
    "\n",
    "v3_xtrain_v = vectorizer.fit_transform(v3_train)\n",
    "v3_xtest_v = vectorizer.transform(v3_test)"
   ]
  },
  {
   "attachments": {},
   "cell_type": "markdown",
   "id": "dca69e7d",
   "metadata": {},
   "source": [
    "## Random Forest Classifier"
   ]
  },
  {
   "attachments": {},
   "cell_type": "markdown",
   "id": "0f1d6e31",
   "metadata": {},
   "source": [
    "##### Version 1"
   ]
  },
  {
   "cell_type": "code",
   "execution_count": 26,
   "id": "ebe8da38",
   "metadata": {},
   "outputs": [],
   "source": [
    "from sklearn.ensemble import RandomForestClassifier\n",
    "from sklearn.metrics import recall_score\n",
    "from sklearn.metrics import accuracy_score\n",
    "\n",
    "rfC = RandomForestClassifier(min_samples_leaf=10,criterion='entropy',random_state=0)\n",
    "\n",
    "# defining a function to perform fitting prediction and accuracy\n",
    "def fitPredict (v1_xtrain_v, y_train, v1_xtest_v, y_test, model) :\n",
    "    # model training\n",
    "    model.fit(v1_xtrain_v, y_train)\n",
    "\n",
    "    # model prediction\n",
    "    yPred = model.predict(v1_xtest_v)\n",
    "    \n",
    "\t#training accuracy\n",
    "    trainSetAccuracy = model.score(v1_xtrain_v, y_train)\n",
    "\n",
    "    #accuracy and recall measure on test set\n",
    "    testSetAccuracy = accuracy_score(y_test, yPred)\n",
    "    testSetRecall = recall_score(y_test, yPred, pos_label = 'positive')\n",
    "\n",
    "    return trainSetAccuracy, testSetAccuracy, testSetRecall\n",
    "\n",
    "v1_RfcTrainAcc, v1_RfcTestAcc, v1_RfcTestRecall = fitPredict (v1_xtrain_v, y_train, v1_xtest_v, y_test, rfC)"
   ]
  },
  {
   "cell_type": "code",
   "execution_count": 30,
   "id": "d1eda470",
   "metadata": {},
   "outputs": [
    {
     "name": "stdout",
     "output_type": "stream",
     "text": [
      "Train set Accuracy for version 1 random forest = 0.86931\n",
      "Test set Accuracy score for version 1 random forest = 0.85994\n",
      "Test set Recall score for version 1 random forest = 0.8563277802075464\n"
     ]
    }
   ],
   "source": [
    "print(f\"Train set Accuracy for version 1 random forest = {v1_RfcTrainAcc}\")\n",
    "print(f\"Test set Accuracy score for version 1 random forest = {v1_RfcTestAcc}\")\n",
    "print(f\"Test set Recall score for version 1 random forest = {v1_RfcTestRecall}\")"
   ]
  },
  {
   "attachments": {},
   "cell_type": "markdown",
   "id": "93be0a34",
   "metadata": {},
   "source": [
    "#### Version 2"
   ]
  },
  {
   "cell_type": "code",
   "execution_count": 28,
   "id": "c2d96892",
   "metadata": {},
   "outputs": [],
   "source": [
    "# initialize classifier object\n",
    "rfC_2 = RandomForestClassifier(min_samples_leaf=10,criterion='entropy',random_state=0)\n",
    "\n",
    "# fit and predict\n",
    "v2_RfcTrainAcc, v2_RfcTestAcc, v2_RfcTestRecall = fitPredict (v2_xtrain_v, y_train, v2_xtest_v, y_test, rfC_2)"
   ]
  },
  {
   "cell_type": "code",
   "execution_count": 29,
   "id": "1ab526e8",
   "metadata": {},
   "outputs": [
    {
     "name": "stdout",
     "output_type": "stream",
     "text": [
      "Train set Accuracy for version 2 random forest = 0.86931\n",
      "Test set Accuracy score for version 2 random forest = 0.85994\n",
      "Test set Recall score for version 2 random forest = 0.8563277802075464\n"
     ]
    }
   ],
   "source": [
    "print(f\"Train set Accuracy for version 2 random forest = {v2_RfcTrainAcc}\")\n",
    "print(f\"Test set Accuracy score for version 2 random forest = {v2_RfcTestAcc}\")\n",
    "print(f\"Test set Recall score for version 2 random forest = {v2_RfcTestRecall}\")"
   ]
  },
  {
   "attachments": {},
   "cell_type": "markdown",
   "id": "9802fe61",
   "metadata": {},
   "source": [
    "#### Version 3"
   ]
  },
  {
   "cell_type": "code",
   "execution_count": 31,
   "id": "3130a00a",
   "metadata": {},
   "outputs": [],
   "source": [
    "# initialize classifier object\n",
    "rfC_3 = RandomForestClassifier(min_samples_leaf=10,criterion='entropy',random_state=0)\n",
    "\n",
    "# fit and predict\n",
    "v3_RfcTrainAcc, v3_RfcTestAcc, v3_RfcTestRecall = fitPredict (v3_xtrain_v, y_train, v3_xtest_v, y_test, rfC_3)\n"
   ]
  },
  {
   "cell_type": "code",
   "execution_count": 32,
   "id": "5de4e11c",
   "metadata": {},
   "outputs": [
    {
     "name": "stdout",
     "output_type": "stream",
     "text": [
      "Train set Accuracy for version 3 random forest = 0.8656\n",
      "Test set Accuracy score for version 3 random forest = 0.85538\n",
      "Test set Recall score for version 3 random forest = 0.8489920877897499\n"
     ]
    }
   ],
   "source": [
    "print(f\"Train set Accuracy for version 3 random forest = {v3_RfcTrainAcc}\")\n",
    "print(f\"Test set Accuracy score for version 3 random forest = {v3_RfcTestAcc}\")\n",
    "print(f\"Test set Recall score for version 3 random forest = {v3_RfcTestRecall}\")"
   ]
  },
  {
   "attachments": {},
   "cell_type": "markdown",
   "id": "a349acb0",
   "metadata": {},
   "source": [
    "### Logistic regression"
   ]
  },
  {
   "attachments": {},
   "cell_type": "markdown",
   "id": "f713db77",
   "metadata": {},
   "source": [
    "##### Version 1"
   ]
  },
  {
   "cell_type": "code",
   "execution_count": 33,
   "id": "a2c54019",
   "metadata": {},
   "outputs": [],
   "source": [
    "from sklearn.linear_model import LogisticRegression\n",
    "\n",
    "# Initialize the classifier object\n",
    "lrC = LogisticRegression(max_iter = 2000)\n",
    "\n",
    "# fit and predict\n",
    "v1_LrTrainAcc, v1_LrTestAcc, v1_LrTestRecall = fitPredict (v1_xtrain_v, y_train, v1_xtest_v, y_test, lrC)"
   ]
  },
  {
   "cell_type": "code",
   "execution_count": 34,
   "id": "8f860816",
   "metadata": {},
   "outputs": [
    {
     "name": "stdout",
     "output_type": "stream",
     "text": [
      "Train set Accuracy for version 1 logistic regression = 0.9584133333333333\n",
      "Test set Accuracy score for version 1 logistic regression = 0.88706\n",
      "Test set Recall score for version 1 logistic regression = 0.8918532066319431\n"
     ]
    }
   ],
   "source": [
    "print(f\"Train set Accuracy for version 1 logistic regression = {v1_LrTrainAcc}\")\n",
    "print(f\"Test set Accuracy score for version 1 logistic regression = {v1_LrTestAcc}\")\n",
    "print(f\"Test set Recall score for version 1 logistic regression = {v1_LrTestRecall}\")"
   ]
  },
  {
   "attachments": {},
   "cell_type": "markdown",
   "id": "25f7b94a",
   "metadata": {},
   "source": [
    "##### Version 2"
   ]
  },
  {
   "cell_type": "code",
   "execution_count": 35,
   "id": "3956ec88",
   "metadata": {},
   "outputs": [],
   "source": [
    "lrC_2 = LogisticRegression(max_iter = 1000)\n",
    "\n",
    "# fit and predict\n",
    "v2_LrTrainAcc, v2_LrTestAcc, v2_LrTestRecall = fitPredict (v2_xtrain_v, y_train, v2_xtest_v, y_test, lrC_2)"
   ]
  },
  {
   "cell_type": "code",
   "execution_count": 36,
   "id": "fecda2a9",
   "metadata": {},
   "outputs": [
    {
     "name": "stdout",
     "output_type": "stream",
     "text": [
      "Train set Accuracy for version 2 logistic regression = 0.9584133333333333\n",
      "Test set Accuracy score for version 2 logistic regression = 0.88706\n",
      "Test set Recall score for version 2 logistic regression = 0.8918532066319431\n"
     ]
    }
   ],
   "source": [
    "print(f\"Train set Accuracy for version 2 logistic regression = {v2_LrTrainAcc}\")\n",
    "print(f\"Test set Accuracy score for version 2 logistic regression = {v2_LrTestAcc}\")\n",
    "print(f\"Test set Recall score for version 2 logistic regression = {v2_LrTestRecall}\")"
   ]
  },
  {
   "attachments": {},
   "cell_type": "markdown",
   "id": "9b11ff46",
   "metadata": {},
   "source": [
    "##### Version 3"
   ]
  },
  {
   "cell_type": "code",
   "execution_count": 37,
   "id": "7a92be7f",
   "metadata": {},
   "outputs": [],
   "source": [
    "lrC_3 = LogisticRegression(max_iter = 1000)\n",
    "\n",
    "# fit and predict\n",
    "v3_LrTrainAcc, v3_LrTestAcc, v3_LrTestRecall = fitPredict (v3_xtrain_v, y_train, v3_xtest_v, y_test, lrC_3)"
   ]
  },
  {
   "cell_type": "code",
   "execution_count": 38,
   "id": "1ca0fbe3",
   "metadata": {},
   "outputs": [
    {
     "name": "stdout",
     "output_type": "stream",
     "text": [
      "Train set Accuracy for version 3 logistic regression = 0.9541433333333333\n",
      "Test set Accuracy score for version 3 logistic regression = 0.88495\n",
      "Test set Recall score for version 3 logistic regression = 0.8900640133593097\n"
     ]
    }
   ],
   "source": [
    "print(f\"Train set Accuracy for version 3 logistic regression = {v3_LrTrainAcc}\")\n",
    "print(f\"Test set Accuracy score for version 3 logistic regression = {v3_LrTestAcc}\")\n",
    "print(f\"Test set Recall score for version 3 logistic regression = {v3_LrTestRecall}\")"
   ]
  },
  {
   "attachments": {},
   "cell_type": "markdown",
   "id": "5e762dec",
   "metadata": {},
   "source": [
    "### Test set results Comparison"
   ]
  },
  {
   "cell_type": "code",
   "execution_count": 57,
   "id": "6cc120a7",
   "metadata": {},
   "outputs": [
    {
     "name": "stdout",
     "output_type": "stream",
     "text": [
      "Random Forest Classifier\n",
      "Measure      Version 1    Version 2    Version 3\n",
      "---------  -----------  -----------  -----------\n",
      "Accuracy      0.85994      0.85994      0.85538\n",
      "Recall        0.856328     0.856328     0.848992\n",
      "\n",
      "\n",
      "Logistic Regression classifier\n",
      "Measure      Version 1    Version 2    Version 3\n",
      "---------  -----------  -----------  -----------\n",
      "Accuracy      0.88706      0.88706      0.88495\n",
      "Recall        0.891853     0.891853     0.890064\n"
     ]
    }
   ],
   "source": [
    "from tabulate import tabulate\n",
    "\n",
    "data = [['Accuracy', v1_RfcTestAcc, v2_RfcTestAcc, v3_RfcTestAcc],\n",
    "        ['Recall', v1_RfcTestRecall ,v2_RfcTestRecall, v3_RfcTestRecall ]]\n",
    "headers = ['Measure', 'Version 1', 'Version 2', 'Version 3']\n",
    "print(\"Random Forest Classifier\")\n",
    "print(tabulate(data, headers = headers))\n",
    "print(\"\")\n",
    "print(\"\")\n",
    "data_i = [['Accuracy', v1_LrTestAcc, v2_LrTestAcc, v3_LrTestAcc],\n",
    "        ['Recall', v1_LrTestRecall ,v2_LrTestRecall, v3_LrTestRecall ]]\n",
    "headers_i = ['Measure', 'Version 1', 'Version 2', 'Version 3']\n",
    "print(\"Logistic Regression classifier\")\n",
    "print(tabulate(data_i, headers = headers_i))"
   ]
  },
  {
   "attachments": {},
   "cell_type": "markdown",
   "id": "bc2a7f0b",
   "metadata": {},
   "source": [
    "### Best dataset version and model"
   ]
  },
  {
   "attachments": {},
   "cell_type": "markdown",
   "id": "5801bfc4",
   "metadata": {},
   "source": [
    "The best dataset was version 1 and model was logistic regression. The model was underfitting as shown in the table below."
   ]
  },
  {
   "cell_type": "code",
   "execution_count": 61,
   "id": "d1a0fa01",
   "metadata": {},
   "outputs": [
    {
     "name": "stdout",
     "output_type": "stream",
     "text": [
      "Logistic Regression classifier\n",
      "Measure      Training Acc    Testing Acc\n",
      "---------  --------------  -------------\n",
      "Accuracy         0.958413        0.88706\n"
     ]
    }
   ],
   "source": [
    "data_ii = [['Accuracy', v1_LrTrainAcc, v1_LrTestAcc]]\n",
    "headers_ii = ['Measure', 'Training Acc', 'Testing Acc']\n",
    "print(\"Logistic Regression classifier\")\n",
    "print(tabulate(data_ii, headers = headers_ii))"
   ]
  },
  {
   "cell_type": "markdown",
   "id": "333ba5cb",
   "metadata": {},
   "source": [
    "### 5. Sentiment classification using VADER sentiment lexicon"
   ]
  },
  {
   "attachments": {},
   "cell_type": "markdown",
   "id": "ec4dbcde",
   "metadata": {},
   "source": [
    "##### Version 1 test set Vader"
   ]
  },
  {
   "cell_type": "code",
   "execution_count": 62,
   "id": "58a6ebe4",
   "metadata": {},
   "outputs": [
    {
     "name": "stdout",
     "output_type": "stream",
     "text": [
      "Version 1 vader accuracy =0.6751\n"
     ]
    }
   ],
   "source": [
    "import nltk\n",
    "from nltk.sentiment.vader import SentimentIntensityAnalyzer\n",
    "import numpy as np\n",
    "\n",
    "# initialize sentiment analyzer object\n",
    "analyser = SentimentIntensityAnalyzer()\n",
    "\n",
    "# convert version test set to numpy array\n",
    "v1_test_np = np.array(v1_test)\n",
    "\n",
    "# create empty list to store polarity scores\n",
    "v1_vader_pred = []\n",
    "\n",
    "#loop through dataset classifying the sentiments\n",
    "for sentence in v1_test_np :\n",
    "    score = analyser.polarity_scores(sentence)\n",
    "    if score['compound'] >= 0:\n",
    "        v1_vader_pred.append('positive')\n",
    "    else:\n",
    "        v1_vader_pred.append('negative')\n",
    "\n",
    "\n",
    "### measuring accuracy\n",
    "v1_vader_accuracy = accuracy_score(y_test, v1_vader_pred)\n",
    "print(f'Version 1 vader accuracy ={v1_vader_accuracy}')"
   ]
  },
  {
   "attachments": {},
   "cell_type": "markdown",
   "id": "954d7576",
   "metadata": {},
   "source": [
    "##### Version 2 test set vader"
   ]
  },
  {
   "cell_type": "code",
   "execution_count": 63,
   "id": "0de212a4",
   "metadata": {},
   "outputs": [
    {
     "name": "stdout",
     "output_type": "stream",
     "text": [
      "Version 2 vader accuracy = 0.67491\n"
     ]
    }
   ],
   "source": [
    "# initialize sentiment analyzer object\n",
    "analyser_2 = SentimentIntensityAnalyzer()\n",
    "\n",
    "#convert version test set to numpy array\n",
    "v2_test_np = np.array(v2_test)\n",
    "\n",
    "# create empty list to store polarity scores\n",
    "v2_vader_pred = []\n",
    "\n",
    "#loop through dataset classifying the sentiments\n",
    "for sentence in v2_test_np :\n",
    "\tscore = analyser_2.polarity_scores(sentence)\n",
    "\tif score['compound'] >= 0:\n",
    "\t\tv2_vader_pred.append('positive')\n",
    "\telse :\n",
    "\t\tv2_vader_pred.append('negative')\n",
    "\n",
    "### Measuring accuracy\n",
    "v2_vader_accuracy = accuracy_score(y_test, v2_vader_pred)\n",
    "print(f'Version 2 vader accuracy = {v2_vader_accuracy}')"
   ]
  },
  {
   "attachments": {},
   "cell_type": "markdown",
   "id": "bedb268d",
   "metadata": {},
   "source": [
    "##### Version 3 test set with vader"
   ]
  },
  {
   "cell_type": "code",
   "execution_count": 64,
   "id": "715565fc",
   "metadata": {},
   "outputs": [
    {
     "name": "stdout",
     "output_type": "stream",
     "text": [
      "Version 3 vader accuracy = 0.67482\n"
     ]
    }
   ],
   "source": [
    "# initialize sentiment analyzer object\n",
    "analyser_3 = SentimentIntensityAnalyzer()\n",
    "\n",
    "#convert version test set to numpy array\n",
    "v3_test_np = np.array(v3_test)\n",
    "\n",
    "# create empty list to store polarity scores\n",
    "v3_vader_pred = []\n",
    "\n",
    "#loop through dataset classifying the sentiments\n",
    "for sentence in v3_test_np :\n",
    "\tscore = analyser_3.polarity_scores(sentence)\n",
    "\tif score['compound'] >= 0 :\n",
    "\t\tv3_vader_pred.append('positive')\n",
    "\telse :\n",
    "\t\tv3_vader_pred.append('negative')\n",
    "\n",
    "### Measuring accuracy\n",
    "v3_vader_accuracy = accuracy_score(y_test, v3_vader_pred)\n",
    "print(f'Version 3 vader accuracy = {v3_vader_accuracy}')"
   ]
  },
  {
   "attachments": {},
   "cell_type": "markdown",
   "id": "21d524bb",
   "metadata": {},
   "source": [
    "### Comparison Vader vs Logistic Regression"
   ]
  },
  {
   "cell_type": "code",
   "execution_count": 73,
   "id": "97d3bfe9",
   "metadata": {},
   "outputs": [
    {
     "name": "stdout",
     "output_type": "stream",
     "text": [
      "Version      VADER    Logistic Regression\n",
      "---------  -------  ---------------------\n",
      "Version 1  0.6751                 0.88706\n",
      "Version 2  0.67491                0.88706\n",
      "Version 3  0.67482                0.88495\n"
     ]
    }
   ],
   "source": [
    "data_ii = [['Version 1',v1_vader_accuracy,v1_LrTestAcc],\n",
    "        ['Version 2',v2_vader_accuracy,v2_LrTestAcc],\n",
    "        ['Version 3',v3_vader_accuracy,v3_LrTestAcc]]\n",
    "headers_ii = ['Version','VADER', 'Logistic Regression']\n",
    "print(tabulate(data_ii, headers = headers_ii))"
   ]
  },
  {
   "attachments": {},
   "cell_type": "markdown",
   "id": "55720f74",
   "metadata": {},
   "source": [
    "Logistic regression outperforms Vader by 21% difference. Logistic regression being a machine learning algorithm learns from the data itself rather than pre-coded conditions"
   ]
  },
  {
   "cell_type": "markdown",
   "id": "ba7ea3a2",
   "metadata": {},
   "source": [
    "### 6. (optional challenge 3 points) Combine VADER with the classifier"
   ]
  },
  {
   "attachments": {},
   "cell_type": "markdown",
   "id": "b225ef2a",
   "metadata": {},
   "source": [
    "#### Version 1 train set"
   ]
  },
  {
   "cell_type": "code",
   "execution_count": 74,
   "id": "99cf2087",
   "metadata": {},
   "outputs": [],
   "source": [
    "import scipy.sparse as sp\n",
    "\n",
    "analyser = SentimentIntensityAnalyzer()\n",
    "\n",
    "v1_train_np = np.array(v1_train)\n",
    "v1_polarity_score = []\n",
    "\n",
    "for sentence in v1_train_np :\n",
    "    score = analyser.polarity_scores(sentence)\n",
    "    if score['compound'] >= 0 :\n",
    "        v1_polarity_score.append(score['compound'])\n",
    "    else:\n",
    "        v1_polarity_score.append(score['compound'])\n",
    "\n",
    "sparse_polarity = sp.csr_matrix(v1_polarity_score).transpose()\n",
    "\n",
    "x_train_combined = sp.hstack([v1_xtrain_v, sparse_polarity])"
   ]
  },
  {
   "attachments": {},
   "cell_type": "markdown",
   "id": "f52db7d9",
   "metadata": {},
   "source": [
    "##### Version 1 test set"
   ]
  },
  {
   "cell_type": "code",
   "execution_count": 75,
   "id": "1fd75fa9",
   "metadata": {},
   "outputs": [],
   "source": [
    "analyser = SentimentIntensityAnalyzer()\n",
    "\n",
    "v1_test_np = np.array(v1_test)\n",
    "v1_test_polarity_score = []\n",
    "\n",
    "for sentence in v1_test_np :\n",
    "    score = analyser.polarity_scores(sentence)\n",
    "    if score['compound'] >= 0:\n",
    "        v1_test_polarity_score.append(score['compound'])\n",
    "    else:\n",
    "        v1_test_polarity_score.append(score['compound'])\n",
    "\n",
    "test_set_polarity = sp.csr_matrix(v1_test_polarity_score).transpose()\n",
    "\n",
    "x_test_combined = sp.hstack([v1_xtest_v, test_set_polarity])"
   ]
  },
  {
   "attachments": {},
   "cell_type": "markdown",
   "id": "32e87274",
   "metadata": {},
   "source": [
    "#### VADER WITH LOGISTIC REGRESSION"
   ]
  },
  {
   "cell_type": "code",
   "execution_count": 88,
   "id": "f72d0237",
   "metadata": {},
   "outputs": [],
   "source": [
    "from sklearn.ensemble import RandomForestClassifier\n",
    "\n",
    "#Initialize classifier object\n",
    "lrc_v = LogisticRegression(max_iter = 1000)\n",
    "\n",
    "# fit and predict\n",
    "vaderLrTrainAcc, vaderLrTestAcc, vaderLrTestRecall = fitPredict (x_train_combined, y_train, x_test_combined, y_test, lrc_v)"
   ]
  },
  {
   "attachments": {},
   "cell_type": "markdown",
   "id": "b27481fc",
   "metadata": {},
   "source": [
    "Combination of VADER output with logistic regression led to an increase in accuracy 0.0025%."
   ]
  },
  {
   "cell_type": "code",
   "execution_count": 91,
   "id": "5bafb4b1",
   "metadata": {},
   "outputs": [
    {
     "name": "stdout",
     "output_type": "stream",
     "text": [
      "Measure      VADER and Logistic Regression    Logistic Regression\n",
      "---------  -------------------------------  ---------------------\n",
      "Accuracy                          0.88725                0.88706\n",
      "Recall                            0.892251               0.891853\n"
     ]
    }
   ],
   "source": [
    "data_iii = [['Accuracy',vaderLrTestAcc,v1_LrTestAcc],\n",
    "        ['Recall',vaderLrTestRecall,v1_LrTestRecall]]\n",
    "headers_iii = ['Measure','VADER and Logistic Regression', 'Logistic Regression']\n",
    "print(tabulate(data_iii, headers = headers_iii))"
   ]
  },
  {
   "cell_type": "markdown",
   "id": "23d3d17f",
   "metadata": {},
   "source": [
    "### 7. References"
   ]
  }
 ],
 "metadata": {
  "kernelspec": {
   "display_name": "venv",
   "language": "python",
   "name": "python3"
  },
  "language_info": {
   "codemirror_mode": {
    "name": "ipython",
    "version": 3
   },
   "file_extension": ".py",
   "mimetype": "text/x-python",
   "name": "python",
   "nbconvert_exporter": "python",
   "pygments_lexer": "ipython3",
   "version": "3.9.15"
  },
  "vscode": {
   "interpreter": {
    "hash": "569792c5f9da20622ff8d2147e1ae52b5f5c6587cdabfd7a77595418d7bfbb13"
   }
  }
 },
 "nbformat": 4,
 "nbformat_minor": 5
}
